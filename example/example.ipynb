{
 "cells": [
  {
   "cell_type": "code",
   "id": "initial_id",
   "metadata": {
    "collapsed": true,
    "ExecuteTime": {
     "end_time": "2024-04-10T15:12:32.691518Z",
     "start_time": "2024-04-10T15:12:29.857498Z"
    }
   },
   "source": [
    "import sys\n",
    "sys.path.append('../src')\n",
    "\n",
    "import torch\n",
    "from pathlib import Path\n",
    "from trainer import get_new_idx_split, run_one_epoch\n",
    "from transformer import Transformer\n",
    "from torchmetrics import MeanMetric\n",
    "from torch.optim.lr_scheduler import StepLR\n",
    "from copy import deepcopy\n",
    "from datetime import datetime\n",
    "\n",
    "from utils import set_seed, get_loss\n",
    "from utils.get_data import get_data_loader, get_dataset"
   ],
   "execution_count": 3,
   "outputs": []
  },
  {
   "metadata": {
    "ExecuteTime": {
     "end_time": "2024-04-10T15:12:32.697696Z",
     "start_time": "2024-04-10T15:12:32.693284Z"
    }
   },
   "cell_type": "code",
   "source": [
    "device = 'cuda:4'\n",
    "dataset_name = 'tracking-6k'\n",
    "model_name = 'trans_hept'\n",
    "seed = 0\n",
    "batch_size = 1\n",
    "main_metric = 'accuracy@0.9'\n",
    "set_seed(seed)"
   ],
   "id": "f3d50abf46285afa",
   "outputs": [],
   "execution_count": 4
  },
  {
   "metadata": {
    "ExecuteTime": {
     "end_time": "2024-04-10T15:12:32.703608Z",
     "start_time": "2024-04-10T15:12:32.698881Z"
    }
   },
   "cell_type": "code",
   "source": "model_configs = {'block_size': 100, 'n_hashes': 3, 'num_buckets': 15, 'pe_type': 'none', 'num_heads': 8, 'h_dim': 24, 'n_layers': 4, 'num_w_per_dist': 10}",
   "id": "5edd657fb7559a40",
   "outputs": [],
   "execution_count": 5
  },
  {
   "metadata": {
    "ExecuteTime": {
     "end_time": "2024-04-10T15:13:30.162620Z",
     "start_time": "2024-04-10T15:12:33.178778Z"
    }
   },
   "cell_type": "code",
   "source": [
    "dataset_dir = Path('../data/') / dataset_name.split(\"-\")[0]\n",
    "dataset = get_dataset(dataset_name, dataset_dir)\n",
    "dataset.idx_split = get_new_idx_split(dataset)\n",
    "loaders = get_data_loader(dataset, dataset.idx_split, batch_size=batch_size)"
   ],
   "id": "6d6116501b706e98",
   "outputs": [],
   "execution_count": 6
  },
  {
   "metadata": {
    "ExecuteTime": {
     "end_time": "2024-04-10T15:13:32.346440Z",
     "start_time": "2024-04-10T15:13:30.352111Z"
    }
   },
   "cell_type": "code",
   "source": [
    "model = Transformer(\n",
    "            attn_type=model_name.split(\"_\")[1],\n",
    "            in_dim=dataset.x_dim,\n",
    "            coords_dim=dataset.coords_dim,\n",
    "            task=dataset.dataset_name,\n",
    "            **model_configs).to(device)\n",
    "model.name = model_name\n",
    "model_dir = '../data/tracking/logs/' + (datetime.now().strftime(\"%m_%d_%Y-%H_%M_%S\") + '-' + dataset_name + '-' + model_name + '-seed' + str(seed) + '-' + main_metric)"
   ],
   "id": "6b3b391649705898",
   "outputs": [],
   "execution_count": 7
  },
  {
   "metadata": {
    "ExecuteTime": {
     "end_time": "2024-04-10T15:13:32.361412Z",
     "start_time": "2024-04-10T15:13:32.349108Z"
    }
   },
   "cell_type": "code",
   "source": [
    "opt = torch.optim.Adam(model.parameters(), lr=1e-3)\n",
    "lr_s = StepLR(opt, step_size=500, gamma=0.5)\n",
    "\n",
    "criterion = get_loss('infonce', {'dist_metric': 'l2_rbf', 'tau': 0.05})\n",
    "pt_thres = [0, 0.5, 0.9]\n",
    "metric_names = [\"accuracy\", \"precision\", \"recall\"]\n",
    "metrics = {f\"{name}@{pt}\": MeanMetric(nan_strategy=\"error\") for name in metric_names for pt in pt_thres}\n",
    "metrics[\"loss\"] = MeanMetric(nan_strategy=\"error\")\n",
    "metrics[\"pt_thres\"] = pt_thres\n",
    "best_epoch, best_train = 0, {metric: -1 * float(\"inf\") for metric in metrics.keys()}\n",
    "best_valid, best_test = deepcopy(best_train), deepcopy(best_train)"
   ],
   "id": "8d0d75234ae914dd",
   "outputs": [],
   "execution_count": 8
  },
  {
   "metadata": {},
   "cell_type": "code",
   "source": [
    "for epoch in range(2000):\n",
    "    train_res = run_one_epoch(model, opt, criterion, loaders[\"train\"], \"train\", epoch, device, metrics, lr_s)\n",
    "    valid_res = run_one_epoch(model, opt, criterion, loaders[\"valid\"], \"valid\", epoch, device, metrics, lr_s)\n",
    "    test_res = run_one_epoch(model, opt, criterion, loaders[\"test\"], \"test\", epoch, device, metrics, lr_s)\n",
    "    \n",
    "    if (valid_res[main_metric]) > (best_valid[main_metric]):\n",
    "        best_epoch, best_train, best_valid, best_test = epoch, train_res, valid_res, test_res\n",
    "        torch.save(model.state_dict(), model_dir + \"best_model.pt\")\n",
    "\n",
    "    print(\n",
    "        f\"[Epoch {epoch}] Best epoch: {best_epoch}, train: {best_train[main_metric]:.4f}, \"\n",
    "            f\"valid: {best_valid[main_metric]:.4f}, test: {best_test[main_metric]:.4f}\"\n",
    "    )\n",
    "    print(\"=\" * 50), print(\"=\" * 50)\n",
    "    \n",
    "    lr_s.step()"
   ],
   "id": "cfaebe648aa31b0d",
   "outputs": [],
   "execution_count": null
  },
  {
   "metadata": {
    "ExecuteTime": {
     "end_time": "2024-04-10T15:26:12.414265Z",
     "start_time": "2024-04-10T15:26:01.158690Z"
    }
   },
   "cell_type": "code",
   "source": [
    "checkpoint = torch.load(\"./best_model.pt\", map_location=\"cpu\")\n",
    "model.load_state_dict(checkpoint, strict=True)\n",
    "model = model.to(device)\n",
    "\n",
    "with torch.no_grad():\n",
    "    model.eval()\n",
    "    test_res = run_one_epoch(model, opt, criterion, loaders[\"test\"], \"test\", 0, device, metrics, lr_s)\n",
    "\n",
    "print(f\"Test accuracy@0.9: {test_res['accuracy@0.9']:.4f}\")"
   ],
   "id": "239d20f0a8b6d94d",
   "outputs": [
    {
     "name": "stderr",
     "output_type": "stream",
     "text": [
      "[Epoch 0] test , loss: 0.6026, acc: 0.9184, prec: 0.3777, recall: 0.9789: 100%|██████████| 50/50 [00:11<00:00,  4.47it/s]"
     ]
    },
    {
     "name": "stdout",
     "output_type": "stream",
     "text": [
      "Test accuracy@0.9: 0.9184\n"
     ]
    },
    {
     "name": "stderr",
     "output_type": "stream",
     "text": [
      "\n"
     ]
    }
   ],
   "execution_count": 12
  }
 ],
 "metadata": {
  "kernelspec": {
   "display_name": "Python 3",
   "language": "python",
   "name": "python3"
  },
  "language_info": {
   "codemirror_mode": {
    "name": "ipython",
    "version": 2
   },
   "file_extension": ".py",
   "mimetype": "text/x-python",
   "name": "python",
   "nbconvert_exporter": "python",
   "pygments_lexer": "ipython2",
   "version": "2.7.6"
  }
 },
 "nbformat": 4,
 "nbformat_minor": 5
}
