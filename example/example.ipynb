{
 "cells": [
  {
   "cell_type": "markdown",
   "id": "9c56791b",
   "metadata": {},
   "source": [
    "# Example of Tracking-60k"
   ]
  },
  {
   "cell_type": "code",
   "execution_count": null,
   "id": "f7813b5e",
   "metadata": {},
   "outputs": [],
   "source": [
    "import sys\n",
    "sys.path.append('../src')\n",
    "\n",
    "import torch\n",
    "from pathlib import Path\n",
    "from trainer import run_one_epoch, init_metrics\n",
    "from transformer import Transformer\n",
    "\n",
    "from utils import set_seed, get_loss\n",
    "from utils.get_data import get_data_loader, get_dataset"
   ]
  },
  {
   "cell_type": "code",
   "execution_count": 2,
   "id": "f3d50abf46285afa",
   "metadata": {
    "ExecuteTime": {
     "end_time": "2024-04-10T15:12:32.697696Z",
     "start_time": "2024-04-10T15:12:32.693284Z"
    }
   },
   "outputs": [],
   "source": [
    "device = 'cuda:0'\n",
    "dataset_name = 'tracking-60k'\n",
    "model_name = 'trans_hept'\n",
    "seed = 0\n",
    "batch_size = 1\n",
    "main_metric = 'accuracy@0.9'\n",
    "set_seed(seed)"
   ]
  },
  {
   "cell_type": "code",
   "execution_count": 3,
   "id": "5edd657fb7559a40",
   "metadata": {
    "ExecuteTime": {
     "end_time": "2024-04-10T15:12:32.703608Z",
     "start_time": "2024-04-10T15:12:32.698881Z"
    }
   },
   "outputs": [],
   "source": [
    "model_configs = {'block_size': 100, 'n_hashes': 3, 'num_regions': 150, 'num_heads': 8, 'h_dim': 24, 'n_layers': 4, 'num_w_per_dist': 10}"
   ]
  },
  {
   "cell_type": "code",
   "execution_count": 4,
   "id": "6d6116501b706e98",
   "metadata": {
    "ExecuteTime": {
     "end_time": "2024-04-10T15:13:30.162620Z",
     "start_time": "2024-04-10T15:12:33.178778Z"
    }
   },
   "outputs": [],
   "source": [
    "dataset_dir = Path('../data/') / dataset_name.split(\"-\")[0]\n",
    "dataset = get_dataset(dataset_name, dataset_dir)\n",
    "loaders = get_data_loader(dataset, dataset.idx_split, batch_size=batch_size)"
   ]
  },
  {
   "cell_type": "code",
   "execution_count": 5,
   "id": "6b3b391649705898",
   "metadata": {
    "ExecuteTime": {
     "end_time": "2024-04-10T15:13:32.346440Z",
     "start_time": "2024-04-10T15:13:30.352111Z"
    }
   },
   "outputs": [],
   "source": [
    "model = Transformer(\n",
    "            attn_type=model_name.split(\"_\")[1],\n",
    "            in_dim=dataset.x_dim,\n",
    "            coords_dim=dataset.coords_dim,\n",
    "            task=dataset.dataset_name,\n",
    "            **model_configs).to(device)"
   ]
  },
  {
   "cell_type": "code",
   "execution_count": 6,
   "id": "8d0d75234ae914dd",
   "metadata": {
    "ExecuteTime": {
     "end_time": "2024-04-10T15:13:32.361412Z",
     "start_time": "2024-04-10T15:13:32.349108Z"
    }
   },
   "outputs": [],
   "source": [
    "criterion = get_loss('infonce', {'dist_metric': 'l2_rbf', 'tau': 0.05})\n",
    "metrics = init_metrics(dataset_name)"
   ]
  },
  {
   "cell_type": "code",
   "execution_count": 7,
   "id": "239d20f0a8b6d94d",
   "metadata": {
    "ExecuteTime": {
     "end_time": "2024-04-10T15:26:12.414265Z",
     "start_time": "2024-04-10T15:26:01.158690Z"
    }
   },
   "outputs": [
    {
     "name": "stderr",
     "output_type": "stream",
     "text": [
      "[Epoch 0] test , loss: 0.5851, acc: 0.9193, prec: 0.3807, recall: 0.9749: 100%|██████████| 5/5 [00:12<00:00,  2.44s/it]"
     ]
    },
    {
     "name": "stdout",
     "output_type": "stream",
     "text": [
      "Test accuracy@0.9: 0.9193\n"
     ]
    },
    {
     "name": "stderr",
     "output_type": "stream",
     "text": [
      "\n"
     ]
    }
   ],
   "source": [
    "checkpoint = torch.load(\"./ckpt/best_model.pt\", map_location=\"cpu\")\n",
    "model.load_state_dict(checkpoint, strict=True)\n",
    "model = model.to(device)\n",
    "\n",
    "with torch.no_grad():\n",
    "    model.eval()\n",
    "    test_res = run_one_epoch(model, None, criterion, loaders[\"test\"], \"test\", 0, device, metrics, None)\n",
    "\n",
    "print(f\"Test accuracy@0.9: {test_res['accuracy@0.9']:.4f}\")"
   ]
  },
  {
   "cell_type": "code",
   "execution_count": null,
   "id": "b8e4005d",
   "metadata": {},
   "outputs": [],
   "source": []
  }
 ],
 "metadata": {
  "kernelspec": {
   "display_name": "Python 3",
   "language": "python",
   "name": "python3"
  },
  "language_info": {
   "codemirror_mode": {
    "name": "ipython",
    "version": 2
   },
   "file_extension": ".py",
   "mimetype": "text/x-python",
   "name": "python",
   "nbconvert_exporter": "python",
   "pygments_lexer": "ipython2",
   "version": "2.7.6"
  }
 },
 "nbformat": 4,
 "nbformat_minor": 5
}
