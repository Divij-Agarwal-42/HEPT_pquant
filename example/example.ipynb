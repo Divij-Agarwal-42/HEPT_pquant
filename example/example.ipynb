{
 "cells": [
  {
   "cell_type": "markdown",
   "id": "9c56791b",
   "metadata": {},
   "source": [
    "# Example of Tracking-60k"
   ]
  },
  {
   "cell_type": "code",
   "execution_count": 1,
   "id": "f7813b5e",
   "metadata": {},
   "outputs": [],
   "source": [
    "import os\n",
    "import sys\n",
    "sys.path.append('../src')\n",
    "\n",
    "import torch\n",
    "import torch.utils.benchmark as benchmark\n",
    "from pathlib import Path\n",
    "\n",
    "from transformer import Transformer\n",
    "from trainer import run_one_epoch, init_metrics\n",
    "from utils import get_loss\n",
    "from utils.get_data import get_data_loader, get_dataset\n",
    "\n",
    "torch.set_num_threads(10)"
   ]
  },
  {
   "cell_type": "code",
   "execution_count": 2,
   "id": "f3d50abf46285afa",
   "metadata": {
    "ExecuteTime": {
     "end_time": "2024-04-10T15:12:32.697696Z",
     "start_time": "2024-04-10T15:12:32.693284Z"
    }
   },
   "outputs": [],
   "source": [
    "device = 'cuda:1'\n",
    "dataset_name = 'tracking-60k'\n",
    "batch_size = 1\n",
    "model_configs = {'block_size': 100, 'n_hashes': 3, 'num_regions': 150, 'num_heads': 8, 'h_dim': 24, 'n_layers': 4, 'num_w_per_dist': 10}\n",
    "torch.cuda.set_device(device)"
   ]
  },
  {
   "cell_type": "code",
   "execution_count": 3,
   "id": "6d6116501b706e98",
   "metadata": {
    "ExecuteTime": {
     "end_time": "2024-04-10T15:13:30.162620Z",
     "start_time": "2024-04-10T15:12:33.178778Z"
    }
   },
   "outputs": [],
   "source": [
    "dataset_dir = Path('../data/') / dataset_name.split(\"-\")[0]\n",
    "dataset = get_dataset(dataset_name, dataset_dir)"
   ]
  },
  {
   "cell_type": "code",
   "execution_count": 4,
   "id": "c81e94bc",
   "metadata": {},
   "outputs": [],
   "source": [
    "loaders = get_data_loader(dataset, dataset.idx_split, batch_size=batch_size)"
   ]
  },
  {
   "cell_type": "code",
   "execution_count": 5,
   "id": "6b3b391649705898",
   "metadata": {
    "ExecuteTime": {
     "end_time": "2024-04-10T15:13:32.346440Z",
     "start_time": "2024-04-10T15:13:30.352111Z"
    }
   },
   "outputs": [],
   "source": [
    "model = Transformer(in_dim=dataset.x_dim, coords_dim=dataset.coords_dim, num_classes=dataset.num_classes, **model_configs).to(device)"
   ]
  },
  {
   "cell_type": "code",
   "execution_count": 6,
   "id": "0e6034a9",
   "metadata": {},
   "outputs": [],
   "source": [
    "checkpoint = torch.load(\"./ckpt/tracking-60k-model.pt\", map_location=\"cpu\")\n",
    "model.load_state_dict(checkpoint, strict=True)\n",
    "model = model.to(device)\n",
    "\n",
    "criterion = get_loss('infonce', {'dist_metric': 'l2_rbf', 'tau': 0.05})\n",
    "metrics = init_metrics(dataset_name)"
   ]
  },
  {
   "cell_type": "code",
   "execution_count": 7,
   "id": "1c365bee",
   "metadata": {},
   "outputs": [
    {
     "name": "stderr",
     "output_type": "stream",
     "text": [
      "[Epoch 0] test , loss: 0.5884, acc: 0.9189, prec: 0.3805, recall: 0.9744: 100%|██████████| 5/5 [00:08<00:00,  1.64s/it]"
     ]
    },
    {
     "name": "stdout",
     "output_type": "stream",
     "text": [
      "Test accuracy@0.9: 0.9189\n"
     ]
    },
    {
     "name": "stderr",
     "output_type": "stream",
     "text": [
      "\n"
     ]
    }
   ],
   "source": [
    "with torch.no_grad():\n",
    "    model.eval()\n",
    "    test_res = run_one_epoch(model, None, criterion, loaders[\"test\"], \"test\", 0, device, metrics, None)\n",
    "\n",
    "print(f\"Test accuracy@0.9: {test_res['accuracy@0.9']:.4f}\")"
   ]
  },
  {
   "cell_type": "markdown",
   "id": "d490a331",
   "metadata": {},
   "source": [
    "# Benchmark Inference Speed"
   ]
  },
  {
   "cell_type": "code",
   "execution_count": 8,
   "id": "6a1d502a",
   "metadata": {},
   "outputs": [],
   "source": [
    "model = torch.compile(model)"
   ]
  },
  {
   "cell_type": "code",
   "execution_count": 9,
   "id": "65848375",
   "metadata": {},
   "outputs": [
    {
     "name": "stdout",
     "output_type": "stream",
     "text": [
      "<torch.utils.benchmark.utils.common.Measurement object at 0x7ef33f5cf430>\n",
      "model(data.x, data.coords, data.batch)\n",
      "setup: from __main__ import model, data\n",
      "  Median: 29.96 ms\n",
      "  IQR:    0.07 ms (29.92 to 29.99)\n",
      "  167 measurements, 1 runs per measurement, 1 thread\n"
     ]
    }
   ],
   "source": [
    "torch.set_float32_matmul_precision('high')\n",
    "for data in loaders[\"test\"]:\n",
    "    if data.x.shape[0] > 60000:\n",
    "        data = data.to(device)\n",
    "        break\n",
    "\n",
    "model.eval()\n",
    "with torch.no_grad():\n",
    "    t1 = benchmark.Timer(\n",
    "        stmt=f\"model(data.x, data.coords, data.batch)\", setup=f\"from __main__ import model, data\"\n",
    "    )\n",
    "    m = t1.blocked_autorange(min_run_time=5)\n",
    "print(m)"
   ]
  },
  {
   "cell_type": "code",
   "execution_count": null,
   "id": "93f727b6",
   "metadata": {},
   "outputs": [],
   "source": []
  }
 ],
 "metadata": {
  "kernelspec": {
   "display_name": "Python 3",
   "language": "python",
   "name": "python3"
  },
  "language_info": {
   "codemirror_mode": {
    "name": "ipython",
    "version": 3
   },
   "file_extension": ".py",
   "mimetype": "text/x-python",
   "name": "python",
   "nbconvert_exporter": "python",
   "pygments_lexer": "ipython3",
   "version": "3.10.13"
  }
 },
 "nbformat": 4,
 "nbformat_minor": 5
}
